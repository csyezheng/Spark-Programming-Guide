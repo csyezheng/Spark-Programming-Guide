{
 "cells": [
  {
   "cell_type": "code",
   "execution_count": 1,
   "metadata": {
    "collapsed": true
   },
   "outputs": [],
   "source": [
    "from pyspark import SparkContext, SparkConf\n",
    "\n",
    "# master URL for the cluster. eg. spark://23.195.26.187:7070  or local\n",
    "conf = SparkConf().setAppName('simpleApp').setMaster('local')\n",
    "# create a SparkContext object, which tells Spark how to access a cluster\n",
    "sc = SparkContext(conf=conf)"
   ]
  },
  {
   "cell_type": "markdown",
   "metadata": {},
   "source": [
    "## Create Resilient Distributed Datasets (RDDs)\n",
    "There are two ways to create RDDs: <b>parallelizing</b> an existing collection in your driver program, or referencing a dataset in an <b>external storage system</b>, such as a shared filesystem, HDFS, HBase, or any data source offering a Hadoop InputFormat.\n",
    "### Parallelized Collections"
   ]
  },
  {
   "cell_type": "code",
   "execution_count": 2,
   "metadata": {},
   "outputs": [
    {
     "data": {
      "text/plain": [
       "15"
      ]
     },
     "execution_count": 2,
     "metadata": {},
     "output_type": "execute_result"
    }
   ],
   "source": [
    "data = [1, 2, 3, 4, 5]\n",
    "# the number of partitions as a second parameter\n",
    "distData = sc.parallelize(data) \n",
    "# Once created, the distributed dataset (distData) can be operated on in parallel.\n",
    "distData.reduce(lambda a, b: a + b)"
   ]
  },
  {
   "cell_type": "markdown",
   "metadata": {},
   "source": [
    "Spark will run one task for each partition of the cluster. Typically you want 2-4 partitions for each CPU in your cluster. \n",
    "### External Datasets: TextFiles\n",
    "External Datasets: local file system, HDFS, Cassandra, HBase, Amazon S3, etc. <br>\n",
    "spark supports text files, SequenceFiles"
   ]
  },
  {
   "cell_type": "code",
   "execution_count": 3,
   "metadata": {},
   "outputs": [
    {
     "data": {
      "text/plain": [
       "3706"
      ]
     },
     "execution_count": 3,
     "metadata": {},
     "output_type": "execute_result"
    }
   ],
   "source": [
    "# hdfs:///tmp/lxw1234/1.txt\n",
    "# file:///etc/hadoop/conf/core-site.xml\n",
    "# second argument for controlling the number of partitions of the file.\n",
    "distFile = sc.textFile(\"/opt/apache-spark/README.md\")\n",
    "# add up the sizes of all the lines\n",
    "distFile.map(lambda s: len(s)).reduce(lambda a, b: a + b)"
   ]
  },
  {
   "cell_type": "markdown",
   "metadata": {},
   "source": [
    "* <b>If using a path on the local filesystem, the file must also be accessible at the same path on worker nodes. Either copy the file to all workers or use a network-mounted shared file system.</b>\n",
    "\n",
    "* All of Spark’s file-based input methods, including textFile, support running on directories, compressed files, and wildcards as well. For example, you can use textFile(\"/my/directory\"), textFile(\"/my/directory/*.txt\"), and textFile(\"/my/directory/*.gz\").\n",
    "\n",
    "* The textFile method also takes an optional second argument for controlling the number of partitions of the file. By default, Spark creates one partition for each block of the file (blocks being 128MB by default in HDFS), but you can also ask for a higher number of partitions by passing a larger value. Note that you cannot have fewer partitions than blocks.\n",
    "\n",
    "* <b>SparkContext.wholeTextFiles</b> lets you read a directory containing multiple small text files, and returns each of them as (filename, content) pairs. This is in contrast with textFile, which would return one record per line in each file.\n",
    "\n",
    "* <b>RDD.saveAsPickleFile</b> and <b>SparkContext.pickleFile</b> support saving an RDD in a simple format consisting of pickled Python objects. Batching is used on pickle serialization, with default batch size 10.\n",
    "\n",
    "* SequenceFile and Hadoop Input/Output Formats"
   ]
  },
  {
   "cell_type": "markdown",
   "metadata": {},
   "source": [
    "### External Datasets: SequenceFiles"
   ]
  },
  {
   "cell_type": "code",
   "execution_count": 4,
   "metadata": {},
   "outputs": [
    {
     "data": {
      "text/plain": [
       "[(1, 'a'), (2, 'aa'), (3, 'aaa')]"
      ]
     },
     "execution_count": 4,
     "metadata": {},
     "output_type": "execute_result"
    }
   ],
   "source": [
    "rdd = sc.parallelize(range(1, 4)).map(lambda x: (x, \"a\" * x))\n",
    "rdd.saveAsSequenceFile(\"path/to/file\")\n",
    "sorted(sc.sequenceFile(\"path/to/file\").collect())"
   ]
  },
  {
   "cell_type": "markdown",
   "metadata": {},
   "source": [
    "### External Datasets: Hadoop Input/Output Formats"
   ]
  },
  {
   "cell_type": "code",
   "execution_count": 5,
   "metadata": {
    "collapsed": true
   },
   "outputs": [],
   "source": [
    "# conf = {\"es.resource\": \"index/type\"}\n",
    "# rdd = sc.newAPIHadoopRDD(\"org.elasticsearch.hadoop.mr.EsInputFormat\",\n",
    "#                              \"org.apache.hadoop.io.NullWritable\",\n",
    "#                              \"org.elasticsearch.hadoop.mr.LinkedMapWritable\",\n",
    "#                              conf=conf)\n",
    "# rdd.first()  # the result is a MapWritable that is converted to a Python dict"
   ]
  },
  {
   "cell_type": "markdown",
   "metadata": {},
   "source": [
    "### External Datasets: Cassandra Input/Output Formats"
   ]
  },
  {
   "cell_type": "markdown",
   "metadata": {},
   "source": [
    "If you have custom serialized binary data (such as loading data from Cassandra / HBase), then you will first need to transform that data on the Scala/Java side to something which can be handled by Pyrolite’s pickler. A <a href=\"https://spark.apache.org/docs/latest/api/scala/index.html#org.apache.spark.api.python.Converter\">Converter</a> trait is provided for this. Simply extend this trait and implement your transformation code in the convert method. Remember to ensure that this class, along with any dependencies required to access your InputFormat, are packaged into your Spark job jar and included on the PySpark classpath."
   ]
  },
  {
   "cell_type": "markdown",
   "metadata": {},
   "source": [
    "### External Datasets: HBase Input/Output Formats"
   ]
  },
  {
   "cell_type": "markdown",
   "metadata": {},
   "source": [
    "See the <a href=\"https://github.com/apache/spark/tree/master/examples/src/main/python\">Python examples</a> and \n",
    "<a href=\"https://github.com/apache/spark/blob/master/examples/src/main/scala/org/apache/spark/examples/pythonconverters/AvroConverters.scala\">Converter examples</a> for examples of using Cassandra / HBase InputFormat and OutputFormat with custom converters."
   ]
  },
  {
   "cell_type": "markdown",
   "metadata": {},
   "source": [
    "## RDD Operations\n",
    "* <b>transformations</b>, which create a new dataset from an existing one (all transformations in Spark are <b>lazy</b>). (eg. <b>map</b>)\n",
    "* <b>actions</b>, which return a value to the driver program after running a computation on the dataset. (eg. <b>reduce</b>)\n",
    "\n",
    "By default, each transformed RDD may be recomputed each time you run an action on it. However, you may also <b>persist</b> an RDD in memory using the <b>persist</b> (or <b?cache</b>) method, "
   ]
  },
  {
   "cell_type": "code",
   "execution_count": 6,
   "metadata": {
    "collapsed": true
   },
   "outputs": [],
   "source": [
    "lines = sc.textFile('data/data.txt')\n",
    "# It is lazy, starting the computation when reduce operate started\n",
    "lineLengths = lines.map(lambda s: len(s))\n",
    "# It should be added before the reduce\n",
    "# save in memory after the first time it is computed\n",
    "lineLengths.persist()    \n",
    "totalLength = lineLengths.reduce(lambda a, b: a+b)"
   ]
  },
  {
   "cell_type": "markdown",
   "metadata": {},
   "source": [
    "## Passing Functions to Spark\n",
    "* Lambda expressions\n",
    "* Local defs inside the function calling into Spark, for longer code.\n",
    "* Top-level functions in a module."
   ]
  },
  {
   "cell_type": "code",
   "execution_count": 7,
   "metadata": {
    "collapsed": true
   },
   "outputs": [],
   "source": [
    "\"\"\"MyScript.py\"\"\"\n",
    "if __name__ == \"__main__\":\n",
    "    def myFunc(s):\n",
    "        words = s.split(\" \")\n",
    "        return len(words)\n",
    "\n",
    "    # sc = SparkContext(...)\n",
    "    sc.textFile(\"file.txt\").map(myFunc)"
   ]
  },
  {
   "cell_type": "code",
   "execution_count": 8,
   "metadata": {
    "collapsed": true
   },
   "outputs": [],
   "source": [
    "#  it is also possible to pass a reference to a method in a class instance\n",
    "class MyClass(object):\n",
    "    def func(self, s):\n",
    "        return s\n",
    "    def doStuff(self, rdd):\n",
    "        return rdd.map(self.func)"
   ]
  },
  {
   "cell_type": "markdown",
   "metadata": {},
   "source": [
    "## Understanding closures\n",
    "One of the harder things about Spark is understanding the scope and life cycle of variables and methods when executing code across a cluster. RDD operations that modify variables outside of their scope can be a frequent source of confusion. "
   ]
  },
  {
   "cell_type": "code",
   "execution_count": 9,
   "metadata": {},
   "outputs": [
    {
     "name": "stdout",
     "output_type": "stream",
     "text": [
      "Counter value:  0\n"
     ]
    }
   ],
   "source": [
    "counter = 0\n",
    "rdd = sc.parallelize(data)\n",
    "\n",
    "# Wrong: Don't do this!!\n",
    "def increment_counter(x):\n",
    "    global counter\n",
    "    counter += x\n",
    "rdd.foreach(increment_counter)\n",
    "\n",
    "print(\"Counter value: \", counter)"
   ]
  },
  {
   "cell_type": "markdown",
   "metadata": {},
   "source": [
    "To execute jobs, Spark breaks up the processing of RDD operations into tasks, each of which is executed by an <b>executor</b>. This closure is serialized and sent to each executor.<br>\n",
    "In general, <b>closures - constructs like loops or locally defined methods, should not be used to mutate some global state</b>. Spark does not define or guarantee the behavior of mutations to objects referenced from outside of closures. Some code that does this may work in <b>local mode</b>, but that’s just by accident and such code will not behave as expected in <b>distributed mode</b>. Use an <b>Accumulator</b> instead if some global aggregation is needed."
   ]
  },
  {
   "cell_type": "markdown",
   "metadata": {},
   "source": [
    "## Printing elements of an RDD\n",
    "\n",
    "in cluster mode, the output to stdout being called by the executors is now writing to the executor’s stdout instead, not the one on the driver, so stdout on the driver won’t show these! To print all elements on the driver, one can use the collect() method to first bring the RDD to the driver node thus: <b>rdd.collect().foreach(println)</b>. This can cause the driver to run <b>out of memory</b>, though, because collect() fetches the entire RDD to a single machine; if you only need to print a few elements of the RDD, a safer approach is to use the take(): <b>rdd.take(100).foreach(println)</b>."
   ]
  },
  {
   "cell_type": "markdown",
   "metadata": {},
   "source": [
    "## Working with Key-Value Pairs"
   ]
  },
  {
   "cell_type": "code",
   "execution_count": 10,
   "metadata": {
    "collapsed": true
   },
   "outputs": [],
   "source": [
    "lines = sc.textFile('data/data.txt')\n",
    "pairs = lines.map(lambda s: (s, 1))\n",
    "counts = pairs.reduceByKey(lambda a, b: a + b)\n",
    "# counts.sortByKeys()\n",
    "# counts.collect() to bring them back to the driver program as a list of objects"
   ]
  },
  {
   "cell_type": "markdown",
   "metadata": {},
   "source": [
    "## Transformations\n",
    "| Transformation | Meaning |\n",
    "| :-- | :-- |\n",
    "| map(func) | |\n",
    "| filter(func) | on which func returns true. |\n",
    "| flatMap(func) | Similar to map, but each input item can be mapped to 0 or more output items (so func should return a Seq rather than a single item). |\n",
    "| mapPartitions(func) | |\n",
    "| mapPartitionsWithIndex(func) | func with an integer value representing the index of the partition |\n",
    "| sample(withReplacement, fraction, seed) | Sample a fraction fraction of the data, with or without replacement, using a given random number generator seed. |\n",
    "| union(otherDataset) | |\n",
    "| intersection(otherDataset) | |\n",
    "| distinct([numTasks])) | Return a new dataset that contains the distinct elements of the source dataset. |\n",
    "| groupByKey([numTasks]) |  When called on a dataset of (K, V) pairs, returns a dataset of (K, Iterable<V>) pairs. Note: If you are grouping in order to perform an aggregation (such as a sum or average) over each key, using <b>reduceByKey</b> or <b>aggregateByKey</b> will yield much better performance. Note: By default, the level of parallelism in the output depends on the number of partitions of the parent RDD. You can pass an optional numTasks argument to set a different number of tasks.|\n",
    "| reduceByKey(func, [numTasks]) | |\n",
    "| aggregateByKey(zeroValue)(seqOp, combOp, [numTasks]) | |\n",
    "| sortByKey([ascending], [numTasks]) | sorted by keys in ascending or descending order, as specified in the <b>boolean</b> ascending argument. |\n",
    "| join(otherDataset, [numTasks]) | \tWhen called on datasets of type (K, V) and (K, W), returns a dataset of (K, (V, W)) pairs with all pairs of elements for each key. Outer joins are supported through <b>leftOuterJoin, rightOuterJoin, and fullOuterJoin</b>.|\n",
    "| cogroup(otherDataset, [numTasks]) | When called on datasets of type (K, V) and (K, W), returns a dataset of (K, (Iterable<V>, Iterable<W>)) tuples. |\n",
    "| cartesian(otherDataset) | When called on datasets of types T and U, returns a dataset of (T, U) pairs (all pairs of elements). |\n",
    "| pipe(command, [envVars]) | Pipe each partition of the RDD through a shell command, e.g. a Perl or bash script. RDD elements are written to the process's stdin and lines output to its stdout are returned as an RDD of strings. |\n",
    "| coalesce(numPartitions) | Decrease the number of partitions in the RDD to numPartitions. Useful for running operations more efficiently after filtering down a large dataset. |\n",
    "| repartition(numPartitions) | |\n",
    "| repartitionAndSortWithinPartitions(partitioner) | |"
   ]
  },
  {
   "cell_type": "markdown",
   "metadata": {},
   "source": [
    "## Actions"
   ]
  },
  {
   "cell_type": "markdown",
   "metadata": {},
   "source": [
    "| Actions | Meaning |\n",
    "| :-- | :-- |\n",
    "| reduce(func) | |\n",
    "| collect() |\tReturn all the elements of the dataset as an array at the driver program. This is usually useful after a filter or other operation that returns a sufficiently small subset of the data. |\n",
    "| count() | |\n",
    "| first() | |\n",
    "| take(n) | |\n",
    "| takeSample(withReplacement, num, [seed]) | |\n",
    "| takeOrdered(n, [ordering]) | |\n",
    "| saveAsTextFile(path) | \tWrite the elements of the dataset as a text file (or set of text files) in a given directory in the local filesystem, HDFS or any other Hadoop-supported file system. Spark will call toString on each element to convert it to a line of text in the file. |\n",
    "| countByKey() | |\n",
    "| foreach(func) | \tRun a function func on each element of the dataset. This is usually done for side effects such as updating an Accumulator or interacting with external storage systems. Note: modifying variables other than Accumulators outside of the foreach() may result in undefined behavior. See Understanding closures for more details. |"
   ]
  },
  {
   "cell_type": "markdown",
   "metadata": {},
   "source": [
    "## Shuffle operations\n",
    "The shuffle is Spark’s mechanism for re-distributing data so that it’s grouped differently across partitions. <br>\n",
    "to organize all the data for a single <b>reduceByKey</b> reduce task to execute, Spark needs to perform an all-to-all operation. It must read from all partitions to find all the values for all keys, and then bring together values across partitions to compute the final result for each key - this is called the <b>shuffle</b>.<br>\n",
    "If one desires predictably ordered data following shuffle then it’s possible to use:\n",
    "\n",
    "* mapPartitions to sort each partition using, for example, .sorted\n",
    "* repartitionAndSortWithinPartitions to efficiently sort partitions while simultaneously repartitioning\n",
    "* sortBy to make a globally ordered RDD\n",
    "\n",
    "Operations which can cause a shuffle include <b>repartition</b> operations like repartition and coalesce, ‘<b>ByKey</b> operations (except for counting) like <b>groupByKey</b> and <b>reduceByKey</b>, and <b>join</b> operations like cogroup and join."
   ]
  },
  {
   "cell_type": "markdown",
   "metadata": {},
   "source": [
    "## RDD Persistence\n",
    "The available storage levels in Python include <b>MEMORY_ONLY, MEMORY_ONLY_2, MEMORY_AND_DISK, MEMORY_AND_DISK_2, DISK_ONLY, and DISK_ONLY_2.</b>"
   ]
  },
  {
   "cell_type": "markdown",
   "metadata": {},
   "source": [
    "## Removing Data\n",
    "<b>RDD.unpersist() </b>"
   ]
  },
  {
   "cell_type": "markdown",
   "metadata": {},
   "source": [
    "## Shared Variables\n",
    "Normally, when a function passed to a Spark operation (such as map or reduce) is executed on a remote cluster node, it works on separate copies of all the variables used in the function. These variables are copied to each machine, and no updates to the variables on the remote machine are propagated back to the driver program. Supporting general, read-write shared variables across tasks would be inefficient. However, Spark does provide two limited types of <b>shared variables</b> for two common usage patterns: <b>broadcast variables</b> and <b>accumulators</b>.\n",
    "\n"
   ]
  },
  {
   "cell_type": "markdown",
   "metadata": {},
   "source": [
    "### broadcast variables\n"
   ]
  },
  {
   "cell_type": "code",
   "execution_count": null,
   "metadata": {
    "collapsed": true
   },
   "outputs": [],
   "source": []
  }
 ],
 "metadata": {
  "kernelspec": {
   "display_name": "Python 3",
   "language": "python",
   "name": "python3"
  },
  "language_info": {
   "codemirror_mode": {
    "name": "ipython",
    "version": 3
   },
   "file_extension": ".py",
   "mimetype": "text/x-python",
   "name": "python",
   "nbconvert_exporter": "python",
   "pygments_lexer": "ipython3",
   "version": "3.6.2"
  }
 },
 "nbformat": 4,
 "nbformat_minor": 2
}
