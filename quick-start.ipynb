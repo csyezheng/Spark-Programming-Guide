{
 "cells": [
  {
   "cell_type": "markdown",
   "metadata": {},
   "source": [
    "./bin/pyspark --master local[4] --py-files code.py --packages --repositories <br>\n",
    "For a complete list of options, run pyspark --help"
   ]
  },
  {
   "cell_type": "code",
   "execution_count": 15,
   "metadata": {},
   "outputs": [
    {
     "data": {
      "text/plain": [
       "DataFrame[value: string]"
      ]
     },
     "execution_count": 15,
     "metadata": {},
     "output_type": "execute_result"
    }
   ],
   "source": [
    "from pyspark.sql import SparkSession\n",
    "\n",
    "spark = SparkSession.builder.appName('No meed in shell').getOrCreate()\n",
    "textFile = spark.read.text(\"/opt/apache-spark/README.md\")\n",
    "rows_cnt = textFile.count() \n",
    "linesWithSpark = textFile.filter(textFile.value.contains(\"Spark\"))   # new DataFrame\n",
    "line_cnt = linesWithSpark.count()\n",
    "\n",
    "from pyspark.sql.functions import *\n",
    "\n",
    "textFile.select(size(split(textFile.value, \"\\s+\")).name(\"numWords\")).agg(max(col(\"numWords\"))).collect()\n",
    "# wordCounts = textFile.select(explode(split(textFile.value, \"\\s+\")).as(\"word\")).groupBy(\"word\").count()\n",
    "# wordCounts.collect()\n",
    "\n",
    "linesWithSpark.cache()  # pull data sets into a cluster wide in memory cache"
   ]
  },
  {
   "cell_type": "markdown",
   "metadata": {},
   "source": [
    "This first maps a line to an integer value and aliases it as “numWords”, creating a new DataFrame. <br>\n",
    "The arguments to select and agg are both Column<br>\n",
    "pyspark.sql.functions provides a lot of convenient functions to build a new Column from an old one.<br>\n"
   ]
  },
  {
   "cell_type": "code",
   "execution_count": 5,
   "metadata": {},
   "outputs": [
    {
     "name": "stdout",
     "output_type": "stream",
     "text": [
      "Lines with a: 61, lines with b: 30\n"
     ]
    }
   ],
   "source": [
    "\"\"\"SimpleApp.py\"\"\"\n",
    "from pyspark.sql import SparkSession\n",
    "\n",
    "logFile = \"/opt/apache-spark/README.md\"  # Should be some file on your system\n",
    "spark = SparkSession.builder.appName('SimpleApp').getOrCreate()\n",
    "logData = spark.read.text(logFile).cache()\n",
    "\n",
    "numAs = logData.filter(logData.value.contains('a')).count()\n",
    "numBs = logData.filter(logData.value.contains('b')).count()\n",
    "\n",
    "print(\"Lines with a: %i, lines with b: %i\" % (numAs, numBs))\n",
    "\n",
    "spark.stop()"
   ]
  },
  {
   "cell_type": "markdown",
   "metadata": {},
   "source": [
    "./bin/spark-submit  --master local[4] SimpleApp.py"
   ]
  },
  {
   "cell_type": "markdown",
   "metadata": {
    "collapsed": true
   },
   "source": [
    "\\$ PYSPARK_PYTHON=python3.4 bin/pyspark<br>\n",
    "\\$ PYSPARK_PYTHON=/opt/pypy-2.5/bin/pypy bin/spark-submit examples/src/main/python/pi.py<br>\n",
    "\\$ PYSPARK_DRIVER_PYTHON=ipython ./bin/pyspark<br>\n",
    "\\$ PYSPARK_DRIVER_PYTHON=jupyter PYSPARK_DRIVER_PYTHON_OPTS=notebook ./bin/pyspark<br>"
   ]
  },
  {
   "cell_type": "code",
   "execution_count": null,
   "metadata": {
    "collapsed": true
   },
   "outputs": [],
   "source": []
  }
 ],
 "metadata": {
  "kernelspec": {
   "display_name": "Python 3",
   "language": "python",
   "name": "python3"
  },
  "language_info": {
   "codemirror_mode": {
    "name": "ipython",
    "version": 3
   },
   "file_extension": ".py",
   "mimetype": "text/x-python",
   "name": "python",
   "nbconvert_exporter": "python",
   "pygments_lexer": "ipython3",
   "version": "3.6.2"
  }
 },
 "nbformat": 4,
 "nbformat_minor": 2
}
